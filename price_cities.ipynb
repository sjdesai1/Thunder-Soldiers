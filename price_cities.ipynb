{
 "cells": [
  {
   "cell_type": "code",
   "execution_count": 29,
   "metadata": {
    "collapsed": true
   },
   "outputs": [],
   "source": [
    "from config import api_key\n",
    "from yelpapi import YelpAPI\n",
    "import requests\n",
    "import pandas as pd\n",
    "import numpy as np\n",
    "import random\n",
    "from matplotlib.ticker import FuncFormatter\n",
    "import matplotlib.pyplot as plt\n",
    "from matplotlib import colors\n",
    "from pprint import pprint"
   ]
  },
  {
   "cell_type": "code",
   "execution_count": 30,
   "metadata": {},
   "outputs": [
    {
     "name": "stdout",
     "output_type": "stream",
     "text": [
      "{'Anaheim,CA': {'$$': 62, '$$$': 8, '$': 26, '$$$$': 3}, 'Santa Ana,CA': {'$$': 46, '$$$$': 1, '$': 51}, 'Irvine,CA': {'$$': 65, '$$$': 2, '$': 33}, 'Cypress,CA': {'$': 48, '$$': 48, '$$$': 3}, 'Garden Grove,CA': {'$$': 46, '$': 50, '$$$$': 2, '$$$': 1}, 'Orange,CA': {'$$': 53, '$': 43, '$$$$': 2, '$$$': 1}, 'Fullerton,CA': {'$$': 59, '$': 36, '$$$': 2}, 'Costa Mesa,CA': {'$$': 67, '$': 28, '$$$': 3, '$$$$': 1}, 'Tustin,CA': {'$': 39, '$$': 58, '$$$': 3}, 'Westminster,CA': {'$': 55, '$$': 44}}\n"
     ]
    }
   ],
   "source": [
    "cities = [\"Anaheim,CA\", \"Santa Ana,CA\", \"Irvine,CA\", \"Cypress,CA\", \"Garden Grove,CA\", \"Orange,CA\", \"Fullerton,CA\", \"Costa Mesa,CA\", \"Tustin,CA\",\"Westminster,CA\"]\n",
    "url = \"https://api.yelp.com/v3/businesses/search\"\n",
    "headers = {'Authorization': 'Bearer %s' %api_key}\n",
    "price_locations = {}\n",
    "\n",
    "for city in cities:\n",
    "    locations={}\n",
    "    params = {\"term\":\"restaurant\",\n",
    "              \"location\":city,\n",
    "              \"limit\":50,\n",
    "             \"radius\":5000}\n",
    "    responses=requests.get(url,headers = headers, params = params).json()\n",
    "    for response in responses[\"businesses\"]:\n",
    "        try:\n",
    "            money= response[\"price\"]\n",
    "            if money not in locations:\n",
    "                locations[money]=1\n",
    "                \n",
    "            else:\n",
    "                locations[money]+=1\n",
    "        except KeyError:\n",
    "            continue  \n",
    "    price_locations[city]=locations \n",
    "    url_params = {\"term\":\"restaurant\",\n",
    "                  \"location\":city,\n",
    "                  \"limit\":50,\n",
    "                 \"offset\":50,\n",
    "                  \"radius\":5000}\n",
    "    results = requests.get(url,headers = headers, params = url_params).json()\n",
    "    for r in results[\"businesses\"]:\n",
    "        try:\n",
    "            m = r[\"price\"]\n",
    "            if m not in locations:\n",
    "                locations[m]=1\n",
    "            else:\n",
    "                locations[m]+=1\n",
    "        except KeyError:\n",
    "            continue\n",
    "    price_locations[city]=locations\n",
    "print(price_locations)        \n",
    "     "
   ]
  },
  {
   "cell_type": "code",
   "execution_count": 31,
   "metadata": {},
   "outputs": [
    {
     "data": {
      "text/html": [
       "<div>\n",
       "<style>\n",
       "    .dataframe thead tr:only-child th {\n",
       "        text-align: right;\n",
       "    }\n",
       "\n",
       "    .dataframe thead th {\n",
       "        text-align: left;\n",
       "    }\n",
       "\n",
       "    .dataframe tbody tr th {\n",
       "        vertical-align: top;\n",
       "    }\n",
       "</style>\n",
       "<table border=\"1\" class=\"dataframe\">\n",
       "  <thead>\n",
       "    <tr style=\"text-align: right;\">\n",
       "      <th></th>\n",
       "      <th>City</th>\n",
       "      <th>Cheap</th>\n",
       "      <th>Affordable</th>\n",
       "      <th>Expensive</th>\n",
       "      <th>Luxury</th>\n",
       "    </tr>\n",
       "  </thead>\n",
       "  <tbody>\n",
       "    <tr>\n",
       "      <th>0</th>\n",
       "      <td>Anaheim,CA</td>\n",
       "      <td>26.0</td>\n",
       "      <td>62.0</td>\n",
       "      <td>8.0</td>\n",
       "      <td>3.0</td>\n",
       "    </tr>\n",
       "    <tr>\n",
       "      <th>1</th>\n",
       "      <td>Costa Mesa,CA</td>\n",
       "      <td>28.0</td>\n",
       "      <td>67.0</td>\n",
       "      <td>3.0</td>\n",
       "      <td>1.0</td>\n",
       "    </tr>\n",
       "    <tr>\n",
       "      <th>2</th>\n",
       "      <td>Cypress,CA</td>\n",
       "      <td>48.0</td>\n",
       "      <td>48.0</td>\n",
       "      <td>3.0</td>\n",
       "      <td>0.0</td>\n",
       "    </tr>\n",
       "    <tr>\n",
       "      <th>3</th>\n",
       "      <td>Fullerton,CA</td>\n",
       "      <td>36.0</td>\n",
       "      <td>59.0</td>\n",
       "      <td>2.0</td>\n",
       "      <td>0.0</td>\n",
       "    </tr>\n",
       "    <tr>\n",
       "      <th>4</th>\n",
       "      <td>Garden Grove,CA</td>\n",
       "      <td>50.0</td>\n",
       "      <td>46.0</td>\n",
       "      <td>1.0</td>\n",
       "      <td>2.0</td>\n",
       "    </tr>\n",
       "    <tr>\n",
       "      <th>5</th>\n",
       "      <td>Irvine,CA</td>\n",
       "      <td>33.0</td>\n",
       "      <td>65.0</td>\n",
       "      <td>2.0</td>\n",
       "      <td>0.0</td>\n",
       "    </tr>\n",
       "    <tr>\n",
       "      <th>6</th>\n",
       "      <td>Orange,CA</td>\n",
       "      <td>43.0</td>\n",
       "      <td>53.0</td>\n",
       "      <td>1.0</td>\n",
       "      <td>2.0</td>\n",
       "    </tr>\n",
       "    <tr>\n",
       "      <th>7</th>\n",
       "      <td>Santa Ana,CA</td>\n",
       "      <td>51.0</td>\n",
       "      <td>46.0</td>\n",
       "      <td>0.0</td>\n",
       "      <td>1.0</td>\n",
       "    </tr>\n",
       "    <tr>\n",
       "      <th>8</th>\n",
       "      <td>Tustin,CA</td>\n",
       "      <td>39.0</td>\n",
       "      <td>58.0</td>\n",
       "      <td>3.0</td>\n",
       "      <td>0.0</td>\n",
       "    </tr>\n",
       "    <tr>\n",
       "      <th>9</th>\n",
       "      <td>Westminster,CA</td>\n",
       "      <td>55.0</td>\n",
       "      <td>44.0</td>\n",
       "      <td>0.0</td>\n",
       "      <td>0.0</td>\n",
       "    </tr>\n",
       "  </tbody>\n",
       "</table>\n",
       "</div>"
      ],
      "text/plain": [
       "              City  Cheap  Affordable  Expensive  Luxury\n",
       "0       Anaheim,CA   26.0        62.0        8.0     3.0\n",
       "1    Costa Mesa,CA   28.0        67.0        3.0     1.0\n",
       "2       Cypress,CA   48.0        48.0        3.0     0.0\n",
       "3     Fullerton,CA   36.0        59.0        2.0     0.0\n",
       "4  Garden Grove,CA   50.0        46.0        1.0     2.0\n",
       "5        Irvine,CA   33.0        65.0        2.0     0.0\n",
       "6        Orange,CA   43.0        53.0        1.0     2.0\n",
       "7     Santa Ana,CA   51.0        46.0        0.0     1.0\n",
       "8        Tustin,CA   39.0        58.0        3.0     0.0\n",
       "9   Westminster,CA   55.0        44.0        0.0     0.0"
      ]
     },
     "execution_count": 31,
     "metadata": {},
     "output_type": "execute_result"
    }
   ],
   "source": [
    "columns = [\"Cheap\",\"Affordable\",\"Expensive\",\"Luxury\"]\n",
    "DF=pd.DataFrame.from_dict(price_locations).T #.T means transpose, switch columns and rows\n",
    "DF = DF.reset_index()\n",
    "# df.rename(columns = {'index':'City','$':'Cheap'}, inplace = True)\n",
    "df = DF.rename(columns={\"$\":\"Cheap\",\"$$\":\"Affordable\",\"$$$\":\"Expensive\",\"$$$$\":\"Luxury\",\"index\":\"City\"})\n",
    "# DF.to_csv(\"output.csv\")\n",
    "\n",
    "df = df.fillna(0)\n",
    "df"
   ]
  },
  {
   "cell_type": "code",
   "execution_count": 32,
   "metadata": {},
   "outputs": [
    {
     "data": {
      "text/plain": [
       "<matplotlib.figure.Figure at 0x1b0ea52af60>"
      ]
     },
     "metadata": {},
     "output_type": "display_data"
    },
    {
     "data": {
      "image/png": "[encoded data removed]",
      "text/plain": [
       "<matplotlib.figure.Figure at 0x1b0ea515390>"
      ]
     },
     "metadata": {},
     "output_type": "display_data"
    }
   ],
   "source": [
    "plt.figure(figsize=(15,7))\n",
    "#df.plot.bar(stacked=True)\n",
    "\n",
    "plt.rc('ytick', labelsize=15)\n",
    "plt.rc('xtick', labelsize=15) \n",
    "plt.rc('axes', titlesize=25)\n",
    "plt.rc('axes', labelsize=15)\n",
    "\n",
    "stars = [\"Anaheim\", \"Costa Mesa\", \"Cypress\", \"Fullerton\", \"Garden Grove\", \"Irvine\", \"Orange\", \"Santa Ana\", \"Tustin\", \"Westminster\"]\n",
    "\n",
    "x_axis = np.arange(len(stars))\n",
    "df.plot.bar(x_axis, color='r', alpha=0.7, align='edge', stacked=True)\n",
    "\n",
    "\n",
    "tick_locations = [value+0.4 for value in x_axis]\n",
    "plt.xticks(tick_locations, stars)\n",
    "\n",
    "#plt.xlim(-0.25,len(x_axis))\n",
    "#plt.ylim(0, 100)\n",
    "\n",
    "plt.title('Cities vs. Restaurants Per Category')\n",
    "plt.xlabel('Cities', fontsize=15)\n",
    "plt.ylabel('Restaurants Per Category', fontsize=15)\n",
    "plt.legend()\n",
    "\n",
    "plt.show()\n"
   ]
  },
  {
   "cell_type": "code",
   "execution_count": null,
   "metadata": {
    "collapsed": true
   },
   "outputs": [],
   "source": []
  },
  {
   "cell_type": "code",
   "execution_count": null,
   "metadata": {
    "collapsed": true
   },
   "outputs": [],
   "source": []
  }
 ],
 "metadata": {
  "kernelspec": {
   "display_name": "Python [conda env:PythonData]",
   "language": "python",
   "name": "conda-env-PythonData-py"
  },
  "language_info": {
   "codemirror_mode": {
    "name": "ipython",
    "version": 3
   },
   "file_extension": ".py",
   "mimetype": "text/x-python",
   "name": "python",
   "nbconvert_exporter": "python",
   "pygments_lexer": "ipython3",
   "version": "3.6.3"
  }
 },
 "nbformat": 4,
 "nbformat_minor": 2
}
